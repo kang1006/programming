{
  "nbformat": 4,
  "nbformat_minor": 0,
  "metadata": {
    "colab": {
      "provenance": [],
      "authorship_tag": "ABX9TyMPIlYS6z75WJ87rqGfhBjy",
      "include_colab_link": true
    },
    "kernelspec": {
      "name": "python3",
      "display_name": "Python 3"
    },
    "language_info": {
      "name": "python"
    }
  },
  "cells": [
    {
      "cell_type": "markdown",
      "metadata": {
        "id": "view-in-github",
        "colab_type": "text"
      },
      "source": [
        "<a href=\"https://colab.research.google.com/github/kang1006/theme-premium/blob/master/Theme-Premium.ipynb\" target=\"_parent\"><img src=\"https://colab.research.google.com/assets/colab-badge.svg\" alt=\"Open In Colab\"/></a>"
      ]
    },
    {
      "cell_type": "code",
      "execution_count": 3,
      "metadata": {
        "id": "LL6FuT77oQ9V"
      },
      "outputs": [],
      "source": [
        "import yfinance as yf\n",
        "import pandas as pd\n",
        "import numpy as np\n",
        "import matplotlib.pyplot as plt"
      ]
    },
    {
      "cell_type": "code",
      "source": [
        "# 변수 저장하기\n",
        "tickers = ['QYLD', 'BIL', 'AOR']\n",
        "start_date = '2000-01-01'  # 시작일\n",
        "end_date = '2023-06-30'  # 종료일\n",
        "\n",
        "obs_period = np.array([3, 6, 9, 12])\n",
        "skip_period = np.array([1])"
      ],
      "metadata": {
        "id": "QH59WxxFqb3m"
      },
      "execution_count": 4,
      "outputs": []
    },
    {
      "cell_type": "code",
      "source": [
        "# 데이터 불러오기\n",
        "data = yf.download(tickers, start=start_date, end=end_date)['Close']\n",
        "data.dropna(inplace=True)\n",
        "print(data)"
      ],
      "metadata": {
        "colab": {
          "base_uri": "https://localhost:8080/"
        },
        "id": "trhX1kGdqehk",
        "outputId": "4a88f6b5-2d93-4704-9462-1a277e430c75"
      },
      "execution_count": 22,
      "outputs": [
        {
          "output_type": "stream",
          "name": "stdout",
          "text": [
            "[*********************100%***********************]  3 of 3 completed\n",
            "                  AOR        BIL       QYLD\n",
            "Date                                       \n",
            "2013-12-12  37.669998  91.580002  25.040001\n",
            "2013-12-13  37.669998  91.580002  25.020000\n",
            "2013-12-16  37.840000  91.559998  25.049999\n",
            "2013-12-17  37.799999  91.559998  25.070000\n",
            "2013-12-18  38.150002  91.580002  25.030001\n",
            "...               ...        ...        ...\n",
            "2023-06-23  50.830002  91.720001  17.480000\n",
            "2023-06-26  50.840000  91.730003  17.350000\n",
            "2023-06-27  50.930000  91.750000  17.559999\n",
            "2023-06-28  51.080002  91.760002  17.580000\n",
            "2023-06-29  51.090000  91.790001  17.570000\n",
            "\n",
            "[2402 rows x 3 columns]\n"
          ]
        }
      ]
    },
    {
      "cell_type": "code",
      "source": [
        "# 모멘텀 계산하기\n",
        "new_data = data.copy()\n",
        "for obs in obs_period:\n",
        "    obs_month = obs * 22  # 월 단위를 일 단위로 변환\n",
        "    for skip in skip_period:\n",
        "        skip_month = skip * 22  # 월 단위를 일 단위로 변환\n",
        "\n",
        "        roc = (new_data[tickers].pct_change(periods=obs_month) - new_data[tickers].pct_change(periods=skip_month)).rename(columns=lambda x: f\"ROC_{x}_{obs}m_{skip}m\")\n",
        "        new_data = new_data.join(roc)\n",
        "\n",
        "        abs_momentum = np.where((new_data[f\"ROC_QYLD_{obs}m_{skip}m\"].notna()) & (new_data[f\"ROC_BIL_{obs}m_{skip}m\"].notna()), (new_data[f\"ROC_QYLD_{obs}m_{skip}m\"] > new_data[f\"ROC_BIL_{obs}m_{skip}m\"]).astype(int), np.nan)\n",
        "        abs_momentum = pd.DataFrame(abs_momentum, index=new_data.index, columns=[f\"abs_momentum_{obs}m_{skip}m\"])\n",
        "        new_data = new_data.join(abs_momentum)"
      ],
      "metadata": {
        "id": "mo0BSh-OquDl"
      },
      "execution_count": 24,
      "outputs": []
    },
    {
      "cell_type": "code",
      "source": [
        "# 투자비중 만들기\n",
        "weight = pd.DataFrame(index=new_data.index, columns=['QYLD', 'BIL'])\n",
        "abs_momentum_columns = [col for col in new_data.columns if \"abs_momentum\" in col]\n",
        "weight['QYLD'] = new_data[abs_momentum_columns].mean(axis=1)\n",
        "weight['BIL'] = 1 - weight['QYLD']\n",
        "\n",
        "# # (6)\n",
        "# portfolio = pd.DataFrame(index=data.index, columns=['Portfolio'])\n",
        "# portfolio['Portfolio'] = weight['QYLD'] * data['QYLD'] + weight['BIL'] * data['BIL']\n",
        "\n",
        "# # AOR US 데이터 불러오기\n",
        "# aor_data = yf.download('AOR', start=data.index[0], end=data.index[-1])['Close']\n",
        "\n",
        "# # 리밸런싱 주기 설정\n",
        "# rebalancing_frequency = 0.1  # 10% 변할 때마다 리밸런싱\n",
        "\n",
        "# # 포트폴리오 성과 계산\n",
        "# portfolio['AOR'] = aor_data\n",
        "# portfolio['Returns'] = portfolio['Portfolio'].pct_change()\n",
        "# portfolio['Cumulative Returns'] = (1 + portfolio['Returns']).cumprod()\n",
        "\n",
        "# # 리밸런싱 시점 확인\n",
        "# rebalancing_dates = portfolio[portfolio['Returns'].abs() >= rebalancing_frequency].index\n",
        "\n",
        "# # 그래프 그리기\n",
        "# plt.figure(figsize=(12, 6))\n",
        "# plt.plot(portfolio['Cumulative Returns'], label='Portfolio')\n",
        "# plt.plot(portfolio['AOR'] / portfolio['AOR'].iloc[0], label='AOR US')\n",
        "# plt.legend(loc='upper left')\n",
        "# plt.xlabel('Date')\n",
        "# plt.ylabel('Cumulative Returns')\n",
        "# plt.title('Portfolio Performance')\n",
        "# plt.show()\n",
        "\n",
        "# # 포트폴리오 성과 메트릭 계산\n",
        "# portfolio_metrics = portfolio.loc[rebalancing_dates, ['Cumulative Returns', 'Returns']]\n",
        "# portfolio_metrics['Rebalancing Dates'] = rebalancing_dates\n",
        "\n",
        "# # 결과 출력\n",
        "# print(portfolio_metrics)"
      ],
      "metadata": {
        "colab": {
          "base_uri": "https://localhost:8080/",
          "height": 455
        },
        "id": "Cia0VDlcUGCd",
        "outputId": "1af070bf-5e6e-4924-e998-34ac667ca3ef"
      },
      "execution_count": 27,
      "outputs": [
        {
          "output_type": "execute_result",
          "data": {
            "text/plain": [
              "            QYLD   BIL\n",
              "Date                  \n",
              "2013-12-12   NaN   NaN\n",
              "2013-12-13   NaN   NaN\n",
              "2013-12-16   NaN   NaN\n",
              "2013-12-17   NaN   NaN\n",
              "2013-12-18   NaN   NaN\n",
              "...          ...   ...\n",
              "2023-06-23  0.75  0.25\n",
              "2023-06-26  0.50  0.50\n",
              "2023-06-27  0.50  0.50\n",
              "2023-06-28  0.75  0.25\n",
              "2023-06-29  0.75  0.25\n",
              "\n",
              "[2402 rows x 2 columns]"
            ],
            "text/html": [
              "\n",
              "  <div id=\"df-9a954fca-acb4-486c-ab19-b414828eb88c\">\n",
              "    <div class=\"colab-df-container\">\n",
              "      <div>\n",
              "<style scoped>\n",
              "    .dataframe tbody tr th:only-of-type {\n",
              "        vertical-align: middle;\n",
              "    }\n",
              "\n",
              "    .dataframe tbody tr th {\n",
              "        vertical-align: top;\n",
              "    }\n",
              "\n",
              "    .dataframe thead th {\n",
              "        text-align: right;\n",
              "    }\n",
              "</style>\n",
              "<table border=\"1\" class=\"dataframe\">\n",
              "  <thead>\n",
              "    <tr style=\"text-align: right;\">\n",
              "      <th></th>\n",
              "      <th>QYLD</th>\n",
              "      <th>BIL</th>\n",
              "    </tr>\n",
              "    <tr>\n",
              "      <th>Date</th>\n",
              "      <th></th>\n",
              "      <th></th>\n",
              "    </tr>\n",
              "  </thead>\n",
              "  <tbody>\n",
              "    <tr>\n",
              "      <th>2013-12-12</th>\n",
              "      <td>NaN</td>\n",
              "      <td>NaN</td>\n",
              "    </tr>\n",
              "    <tr>\n",
              "      <th>2013-12-13</th>\n",
              "      <td>NaN</td>\n",
              "      <td>NaN</td>\n",
              "    </tr>\n",
              "    <tr>\n",
              "      <th>2013-12-16</th>\n",
              "      <td>NaN</td>\n",
              "      <td>NaN</td>\n",
              "    </tr>\n",
              "    <tr>\n",
              "      <th>2013-12-17</th>\n",
              "      <td>NaN</td>\n",
              "      <td>NaN</td>\n",
              "    </tr>\n",
              "    <tr>\n",
              "      <th>2013-12-18</th>\n",
              "      <td>NaN</td>\n",
              "      <td>NaN</td>\n",
              "    </tr>\n",
              "    <tr>\n",
              "      <th>...</th>\n",
              "      <td>...</td>\n",
              "      <td>...</td>\n",
              "    </tr>\n",
              "    <tr>\n",
              "      <th>2023-06-23</th>\n",
              "      <td>0.75</td>\n",
              "      <td>0.25</td>\n",
              "    </tr>\n",
              "    <tr>\n",
              "      <th>2023-06-26</th>\n",
              "      <td>0.50</td>\n",
              "      <td>0.50</td>\n",
              "    </tr>\n",
              "    <tr>\n",
              "      <th>2023-06-27</th>\n",
              "      <td>0.50</td>\n",
              "      <td>0.50</td>\n",
              "    </tr>\n",
              "    <tr>\n",
              "      <th>2023-06-28</th>\n",
              "      <td>0.75</td>\n",
              "      <td>0.25</td>\n",
              "    </tr>\n",
              "    <tr>\n",
              "      <th>2023-06-29</th>\n",
              "      <td>0.75</td>\n",
              "      <td>0.25</td>\n",
              "    </tr>\n",
              "  </tbody>\n",
              "</table>\n",
              "<p>2402 rows × 2 columns</p>\n",
              "</div>\n",
              "      <button class=\"colab-df-convert\" onclick=\"convertToInteractive('df-9a954fca-acb4-486c-ab19-b414828eb88c')\"\n",
              "              title=\"Convert this dataframe to an interactive table.\"\n",
              "              style=\"display:none;\">\n",
              "        \n",
              "  <svg xmlns=\"http://www.w3.org/2000/svg\" height=\"24px\"viewBox=\"0 0 24 24\"\n",
              "       width=\"24px\">\n",
              "    <path d=\"M0 0h24v24H0V0z\" fill=\"none\"/>\n",
              "    <path d=\"M18.56 5.44l.94 2.06.94-2.06 2.06-.94-2.06-.94-.94-2.06-.94 2.06-2.06.94zm-11 1L8.5 8.5l.94-2.06 2.06-.94-2.06-.94L8.5 2.5l-.94 2.06-2.06.94zm10 10l.94 2.06.94-2.06 2.06-.94-2.06-.94-.94-2.06-.94 2.06-2.06.94z\"/><path d=\"M17.41 7.96l-1.37-1.37c-.4-.4-.92-.59-1.43-.59-.52 0-1.04.2-1.43.59L10.3 9.45l-7.72 7.72c-.78.78-.78 2.05 0 2.83L4 21.41c.39.39.9.59 1.41.59.51 0 1.02-.2 1.41-.59l7.78-7.78 2.81-2.81c.8-.78.8-2.07 0-2.86zM5.41 20L4 18.59l7.72-7.72 1.47 1.35L5.41 20z\"/>\n",
              "  </svg>\n",
              "      </button>\n",
              "      \n",
              "  <style>\n",
              "    .colab-df-container {\n",
              "      display:flex;\n",
              "      flex-wrap:wrap;\n",
              "      gap: 12px;\n",
              "    }\n",
              "\n",
              "    .colab-df-convert {\n",
              "      background-color: #E8F0FE;\n",
              "      border: none;\n",
              "      border-radius: 50%;\n",
              "      cursor: pointer;\n",
              "      display: none;\n",
              "      fill: #1967D2;\n",
              "      height: 32px;\n",
              "      padding: 0 0 0 0;\n",
              "      width: 32px;\n",
              "    }\n",
              "\n",
              "    .colab-df-convert:hover {\n",
              "      background-color: #E2EBFA;\n",
              "      box-shadow: 0px 1px 2px rgba(60, 64, 67, 0.3), 0px 1px 3px 1px rgba(60, 64, 67, 0.15);\n",
              "      fill: #174EA6;\n",
              "    }\n",
              "\n",
              "    [theme=dark] .colab-df-convert {\n",
              "      background-color: #3B4455;\n",
              "      fill: #D2E3FC;\n",
              "    }\n",
              "\n",
              "    [theme=dark] .colab-df-convert:hover {\n",
              "      background-color: #434B5C;\n",
              "      box-shadow: 0px 1px 3px 1px rgba(0, 0, 0, 0.15);\n",
              "      filter: drop-shadow(0px 1px 2px rgba(0, 0, 0, 0.3));\n",
              "      fill: #FFFFFF;\n",
              "    }\n",
              "  </style>\n",
              "\n",
              "      <script>\n",
              "        const buttonEl =\n",
              "          document.querySelector('#df-9a954fca-acb4-486c-ab19-b414828eb88c button.colab-df-convert');\n",
              "        buttonEl.style.display =\n",
              "          google.colab.kernel.accessAllowed ? 'block' : 'none';\n",
              "\n",
              "        async function convertToInteractive(key) {\n",
              "          const element = document.querySelector('#df-9a954fca-acb4-486c-ab19-b414828eb88c');\n",
              "          const dataTable =\n",
              "            await google.colab.kernel.invokeFunction('convertToInteractive',\n",
              "                                                     [key], {});\n",
              "          if (!dataTable) return;\n",
              "\n",
              "          const docLinkHtml = 'Like what you see? Visit the ' +\n",
              "            '<a target=\"_blank\" href=https://colab.research.google.com/notebooks/data_table.ipynb>data table notebook</a>'\n",
              "            + ' to learn more about interactive tables.';\n",
              "          element.innerHTML = '';\n",
              "          dataTable['output_type'] = 'display_data';\n",
              "          await google.colab.output.renderOutput(dataTable, element);\n",
              "          const docLink = document.createElement('div');\n",
              "          docLink.innerHTML = docLinkHtml;\n",
              "          element.appendChild(docLink);\n",
              "        }\n",
              "      </script>\n",
              "    </div>\n",
              "  </div>\n",
              "  "
            ]
          },
          "metadata": {},
          "execution_count": 27
        }
      ]
    },
    {
      "cell_type": "code",
      "source": [],
      "metadata": {
        "colab": {
          "base_uri": "https://localhost:8080/"
        },
        "id": "SmX-dRDL2QUI",
        "outputId": "0ffc46dc-e395-4b9f-dbf4-e7c3d142789d"
      },
      "execution_count": 16,
      "outputs": [
        {
          "output_type": "execute_result",
          "data": {
            "text/plain": [
              "Date\n",
              "2013-12-12   NaN\n",
              "2013-12-13   NaN\n",
              "2013-12-16   NaN\n",
              "2013-12-17   NaN\n",
              "2013-12-18   NaN\n",
              "              ..\n",
              "2023-06-23   NaN\n",
              "2023-06-26   NaN\n",
              "2023-06-27   NaN\n",
              "2023-06-28   NaN\n",
              "2023-06-29   NaN\n",
              "Name: abs_momentum_3m_1m, Length: 2402, dtype: float64"
            ]
          },
          "metadata": {},
          "execution_count": 16
        }
      ]
    }
  ]
}